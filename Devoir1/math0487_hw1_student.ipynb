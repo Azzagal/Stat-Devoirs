{
 "cells": [
  {
   "cell_type": "markdown",
   "id": "db0f2901",
   "metadata": {},
   "source": [
    "<div class=\"alert-success\">\n",
    "\n",
    "**Nom(s), Prénom(s) et matricule(s) :**\n",
    "</div>"
   ]
  },
  {
   "cell_type": "markdown",
   "id": "ea33b358",
   "metadata": {
    "editable": true,
    "slideshow": {
     "slide_type": ""
    },
    "tags": []
   },
   "source": [
    "> VOTRE TEXTE ICI"
   ]
  },
  {
   "cell_type": "markdown",
   "id": "e947efca",
   "metadata": {},
   "source": [
    "\n",
    "---"
   ]
  },
  {
   "cell_type": "markdown",
   "id": "64fa59b7",
   "metadata": {
    "slideshow": {
     "slide_type": ""
    },
    "tags": []
   },
   "source": [
    "#### **Instructions générales**"
   ]
  },
  {
   "cell_type": "markdown",
   "id": "0bbcaca9",
   "metadata": {},
   "source": [
    "##### **Objectifs**"
   ]
  },
  {
   "cell_type": "markdown",
   "id": "d772e455",
   "metadata": {
    "editable": true,
    "slideshow": {
     "slide_type": ""
    },
    "tags": []
   },
   "source": [
    "Les objectifs de ce devoir sont les suivants : \n",
    "\n",
    "- explorer un jeu de données et en extraire différentes statistiques descriptives,\n",
    "\n",
    "- manipuler les paramètres d’un modèle statistique et comprendre le concept de vraisemblance (*likelihood*, en anglais),\n",
    "\n",
    "- estimer les paramètres d'un modèle statistique selon différentes méthodes et apporter un regard critique sur la modélisation,\n",
    "\n",
    "- étudier la convergence d'un estimateur."
   ]
  },
  {
   "cell_type": "markdown",
   "id": "41ad3df4",
   "metadata": {},
   "source": [
    "##### **Délivrables**"
   ]
  },
  {
   "cell_type": "markdown",
   "id": "5096c506",
   "metadata": {
    "editable": true,
    "slideshow": {
     "slide_type": ""
    },
    "tags": []
   },
   "source": [
    "Ce devoir doit être réalisé par groupe de 2 étudiants maximum. Chaque groupe doit\n",
    "rendre ce notebook complété, et **une version .pdf de ce notebook** qui sera utilisée pour la correction. \n",
    "\n",
    "La date limite de soumission est fixée au **29 novembre 2024 à 20h00**. Jusqu’à cette date, vous avez la possibilité de (re)soumettre votre rapport ou votre code autant de fois que vous le souhaitez. Au-delà de cette date, il ne sera plus possible de soumettre le devoir. N’attendez pas la dernière minute pour soumettre une première version de votre travail !"
   ]
  },
  {
   "cell_type": "markdown",
   "id": "eaef0c0c",
   "metadata": {
    "editable": true,
    "slideshow": {
     "slide_type": ""
    },
    "tags": []
   },
   "source": [
    "La soumission doit se faire sur la plateforme [Gradescope](https://www.gradescope.com/) directement. \n",
    "\n",
    "- Chaque étudiant doit s'inscrire sur [Gradescope](https://www.gradescope.com/) en utilisant son adresse `@student.uliege.be`. Si vous ne voyez pas le cours MATH0487 dans votre tableau de bord, contactez-nous sur [Ed](https://edstem.org/us/dashboard) au plus vite (n'attendez pas la veille de la date de soumission pour vérifier que vous avez accès au cours sur Gradescope ;- ).\n",
    "\n",
    "- Chaque groupe doit soumettre un seul fichier `.ipynb` et un seul fichier `.pdf` sur [Gradescope](https://www.gradescope.com/). Toutes les cellules doivent être exécutées et leurs sorties ne doivent pas être effacées avant la soumission. Assurez-vous que tous les membres du groupe sont correctement ajoutés à la soumission !\n",
    "\n",
    "- N'oubliez pas d'assigner les pages de votre pdf aux questions sur Gradescope !\n",
    "\n",
    "Si vous n'êtes pas familiers avec Gradescope, vous trouverez des explications sur chaque étape de la soumission ci-dessous :\n",
    "\n",
    "- [Soumission de pdf](https://help.gradescope.com/article/ccbpppziu9-student-submit-work#submitting_a_pdf),\n",
    "- [Soumission de code](https://help.gradescope.com/article/ccbpppziu9-student-submit-work#code_submissions),\n",
    "- [Ajout de membres de groupe](https://help.gradescope.com/article/m5qz2xsnjy-student-add-group-members).\n",
    "\n",
    "**Attention**:\n",
    "Pour convertir votre notebook en pdf, nous conseillons l'utilisation de [nbconverter](https://nbconvert.readthedocs.io/en/latest/install.html). Cet outil fait partie de l'écosystème Jupyter, et peut être directement utilisé pour l'exportation de notebooks. Il peut également être installé via `pip`ou `conda`. [nbconverter](https://nbconvert.readthedocs.io/en/latest/install.html) requiert également l'installation de Pandoc et TeX (en particulier, XeLaTeX). Les instructions pour installer ces packages sont disponibles sur la page d'installation renseignée ci-avant. \n",
    "\n",
    "**N'attendez pas la veille de la date limite de soumission pour tester que cette conversion se fait correctement avec votre installation ! Le staff peut vous aider si vous en avez le besoin, mais**\n",
    "- **nous ne règlerons pas de problème de conversion de \"dernière minute\",**\n",
    "- **nous n'accepterons pas de pdf illisibles,**\n",
    "- **nous ne corrigerons pas de fichier .ipynb.**\n",
    "  \n",
    "**Vous êtes responsables de la qualité du document soumis.** Si, par exemple, une figure ne s'affiche pas correctement après conversion, il vous incombe de régler ce problème (en demandant de l'aide au staff si nécessaire)."
   ]
  },
  {
   "cell_type": "markdown",
   "id": "a8dbb1fa",
   "metadata": {},
   "source": [
    "***Remarques importantes*** sur l'utilisation de ce notebook :\n",
    "\n",
    "- Ne modifiez et ne supprimez pas de cellules (Markdown) contenant des consignes/questions.\n",
    "- Les cellules demandant une réponse sous forme de texte ou sous forme de code sont colorées en vert, <div class=\"alert-success\"> comme ceci. </div>\n",
    "- Remplissez uniquement les cellules prévues à cet effet :\n",
    "    - soit dans une une portion réservée à votre code comme ci-dessous\n",
    "\n",
    "        ```python\n",
    "        \"\"\"VOTRE CODE ICI\"\"\"\n",
    "        ```\n",
    "    - soit dans une portion réservée à une réponse écrite comme ci-dessous\n",
    "    \n",
    "        > VOTRE RÉPONSE ÉCRITE ICI\n",
    "      \n",
    "    Ne créez pas de nouvelles cellules.\n",
    "- Respectez le type de cellule prévu pour une question donnée : certaines questions demandent d'implémenter du code (cellules \"Code\", en Python) et de présenter des résultats (valeurs numériques, tables, graphes, ...), et d'autres vous demandent de fournir une réponse utilisant du texte (cellules \"Markdown\", incluant certaines commandes LaTeX et acceptant la syntaxe HTML).\n",
    "- Lorsque vous présentez un graphique, n'oubliez pas d'indiquer un titre et / ou des noms pour les axes. Lorsque cela est nécessaire, affichez également la légende.\n",
    "- Un exemple de cellule Markdown comprenant des commandes LaTeX est donné ci-dessous :"
   ]
  },
  {
   "cell_type": "markdown",
   "id": "3b842f6f",
   "metadata": {},
   "source": [
    "`début de l'exemple`\n",
    "\n",
    "Ceci est un *exemple* de cellule de texte **Markdown**. Double-cliquez dessus pour voir le texte brut.\n",
    "\n",
    "Vous pouvez utilisez certaines commandes LaTeX comme $\\sin(x)$ ou $\\alpha$. Il est possible d'écrire des équations comme\n",
    "$$ \\beta \\dot{y} = 3 x$$\n",
    "ou encore\n",
    "\\begin{equation}\n",
    "\\begin{aligned}\n",
    "\\beta \\dot{y} &= 3 x \\\\\n",
    "\\gamma \\dot{x} &= 4 y.\n",
    "\\end{aligned}\n",
    "\\end{equation}\n",
    "\n",
    "Des listes sont également disponibles :\n",
    "\n",
    "- élément 1\n",
    "- élément 2\n",
    "- ...\n",
    "\n",
    "ou \n",
    "\n",
    "* élément 1\n",
    "* élément 2\n",
    "* ...\n",
    "\n",
    "N'hésitez pas à vous renseigner sur la syntaxe Markdown si vous avez besoin d'autres éléments (*e.g.* construire des tables).\n",
    "\n",
    "`fin de l'exemple`"
   ]
  },
  {
   "cell_type": "markdown",
   "id": "ddddc619",
   "metadata": {},
   "source": [
    "- Enfin, veillez à toujours présenter vos résultats en sortie de cellule quand cela est nécessaire (figures, valeurs numériques, etc.). **Une cellule non exécutée ou dont les valeurs calculées et demandées ne sont pas affichées sera considérée comme non implémentée.**\n",
    "\n",
    "Si vous rencontrez des problèmes ou avez des questions concernant ces remarques, merci de contacter l'équipe pédagogique *via* le forum de [Ed Discussion](https://edstem.org/us/courses/29547/discussion/1795956)."
   ]
  },
  {
   "cell_type": "markdown",
   "id": "bffbbf75",
   "metadata": {},
   "source": [
    "##### **Questions**"
   ]
  },
  {
   "cell_type": "markdown",
   "id": "49a3732c",
   "metadata": {},
   "source": [
    "Toutes vos questions sur le devoir (y compris sur l'utilisation de Python ou de Jupyter) doivent être postées dans le forum de [Ed Discussion](https://edstem.org/us/courses/29547/discussion/1795956) du cours sous la catégorie *Assignments/Homework* (une question par fil de discussion). "
   ]
  },
  {
   "cell_type": "markdown",
   "id": "17ec987b",
   "metadata": {},
   "source": [
    "##### **Politique de collaboration**"
   ]
  },
  {
   "cell_type": "markdown",
   "id": "7bbbdef9",
   "metadata": {},
   "source": [
    "Vous pouvez discuter du devoir avec d’autres groupes, mais *vous devez écrire vous-même vos propres solutions, et écrire et exécuter vous-même votre propre code*. Copier la solution de quelqu’un d’autre, ou simplement apporter des modifications triviales pour ne pas copier textuellement, n’est pas acceptable."
   ]
  },
  {
   "cell_type": "markdown",
   "id": "ac9db0e1",
   "metadata": {},
   "source": [
    "---"
   ]
  },
  {
   "cell_type": "markdown",
   "id": "6a4bde9e",
   "metadata": {},
   "source": [
    "##### **Présentation du problème**"
   ]
  },
  {
   "cell_type": "markdown",
   "id": "395ed25e",
   "metadata": {},
   "source": [
    "Le staff du cours MATH0487-2 est, comme vous (sans aucun doute), fasciné par les tremblements de terre ! \n",
    "Ce devoir vous propose d'explorer les différents concepts du cours théorique et des TP en les appliquant à un jeu de données réel, et ce, à l'aide d'outils numériques. \n",
    "\n",
    "Plus précisément, les données qui vous sont fournies recueillent des observations réalisées pour 1000 tremblements de terre, pour lesquels ont été reportées plusieurs caractéristiques telles que :\n",
    "\n",
    "- le lieu\n",
    "- la date\n",
    "- la magnitude\n",
    "- ...   \n",
    "\n",
    "C'est cette dernière grandeur, la magnitude du tremblement, que nous allons étudier à l'aide de notre échantillon. \n",
    "L'ensemble des données peut être chargé depuis le fichier `data_math0487.csv` de l'archive fournie."
   ]
  },
  {
   "cell_type": "code",
   "execution_count": 1041,
   "id": "84e84964",
   "metadata": {},
   "outputs": [],
   "source": [
    "# ces librairies devraient suffir à réaliser ce premier devoir, vous pouvez évidemment en utiliser d'autres (à importer dans cette cellule).\n",
    "import pandas as pd\n",
    "import numpy as np\n",
    "import matplotlib.pyplot as plt\n",
    "import scipy.stats as stats\n",
    "import seaborn as sns\n",
    "from sklearn.neighbors import KernelDensity"
   ]
  },
  {
   "cell_type": "markdown",
   "id": "3a2839cc",
   "metadata": {},
   "source": [
    "##### **Importation des données**"
   ]
  },
  {
   "cell_type": "code",
   "execution_count": 1042,
   "id": "40cdbe3a",
   "metadata": {},
   "outputs": [],
   "source": [
    "# chargement du dataset\n",
    "data = pd.read_csv(\"data_math0487.csv\")\n",
    "var = \"magnitude\"\n",
    "data = data[var]"
   ]
  },
  {
   "cell_type": "markdown",
   "id": "56ca15bb",
   "metadata": {},
   "source": [
    "---"
   ]
  },
  {
   "cell_type": "markdown",
   "id": "1314d80b",
   "metadata": {},
   "source": [
    "# Analyse descriptive\n",
    "## Statistiques d'échantillon, données aberrantes, ECDF et histogramme"
   ]
  },
  {
   "cell_type": "markdown",
   "id": "9c781693",
   "metadata": {},
   "source": [
    "Dans cette première partie du devoir, vous allez explorer l'échantillon qui vous est fourni. Vous allez analyser comment sont distribuées ces données et en extraire certaines statistiques."
   ]
  },
  {
   "cell_type": "markdown",
   "id": "a7078acb",
   "metadata": {},
   "source": [
    "<div class=\"alert-success\">\n",
    "\n",
    "Pour étudier la distribution de la variable étudiée au sein de l'échantillon à votre disposition, vous allez générer 3 graphiques sur la même figure :\n",
    "\n",
    "- la **fonction de répartition empirique** (*empirical cumulative density fucntion*);\n",
    "- l'**histogramme** normalisé de manière à ce que les hauteurs des rectangles soient déterminées de sorte que les surfaces des rectangles correspondent aux fréquences relatives, appelées normalisation en densité (*density*) - considérez un nombre de classes (*bins*) égal à 15;\n",
    "- la **boîte à moustaches**. \n",
    "\n",
    "Sur ces trois graphiques, représentez également la moyenne, l'écart-type, et les quartiles ($\\hat{F}^{-1}(0.25)$,  $\\hat{F}^{-1}(0.5)$ et $\\hat{F}^{-1}(0.75)$). Les **valeurs numériques** de ces statistiques doivent également apparaître.\n",
    "\n",
    "*Conseil :* Utilisez `subplots` pour créer des sous-graphes dans une seule figure.\n",
    "\n",
    "</div>"
   ]
  },
  {
   "cell_type": "code",
   "execution_count": 1043,
   "id": "e442492b",
   "metadata": {},
   "outputs": [
    {
     "data": {
      "image/png": "[encoded data removed]",
      "text/plain": [
       "<Figure size 1600x500 with 3 Axes>"
      ]
     },
     "metadata": {},
     "output_type": "display_data"
    }
   ],
   "source": [
    "fig, axes = plt.subplots(1, 3, figsize=(16, 5))\n",
    "\n",
    "quartile1 = np.percentile(data, 25)\n",
    "quartile3 = np.percentile(data, 75)\n",
    "mean = np.mean(data)\n",
    "std_dev = np.std(data)\n",
    "dataset_size = len(data)\n",
    "\n",
    "\"\"\"ECDF\"\"\"\n",
    "sns.ecdfplot(data, ax=axes[0])\n",
    "axes[0].set_title(\"Empirical CDF\")\n",
    "\n",
    "# Displaying the mean, 1st and 3rd quartiles and std dev\n",
    "axes[0].axvline(quartile1, color=\"b\",\n",
    "                label=\"1st Quartile (Q1) = \" + str(quartile1))\n",
    "axes[0].axvline(mean, color=\"r\", label=\"Mean = \" + str(round(mean, 2)))\n",
    "axes[0].axvline(quartile3, color=\"g\",\n",
    "                label=\"3rd Quartile (Q3) = \" + str(quartile3))\n",
    "\n",
    "axes[0].axvline(mean + std_dev, color=\"g\", linestyle=\"--\")\n",
    "axes[0].axvline(\n",
    "    mean - std_dev,\n",
    "    color=\"g\",\n",
    "    linestyle=\"--\",\n",
    "    label=\"mean +- std dev \\n\" f\"standard deviation = {std_dev:.2f}\",\n",
    ")\n",
    "\n",
    "axes[0].legend(fontsize=\"small\")\n",
    "\n",
    "\n",
    "\n",
    "\"\"\"\"Histogram\"\"\"\n",
    "sns.histplot(data, bins=15, stat=\"density\", ax=axes[1])\n",
    "axes[1].set_title(\"Histogram\")\n",
    "\n",
    "# Displaying the mean, 1st & 3rd quartiles and std dev\n",
    "axes[1].axvline(quartile1, color=\"b\",\n",
    "                label=\"1st Quartile (Q1) = \" + str(quartile1))\n",
    "axes[1].axvline(mean, color=\"red\", label=\"Mean = \" + str(round(mean, 2)))\n",
    "axes[1].axvline(quartile3, color=\"g\",\n",
    "                label=\"3rd Quartile (Q3) = \" + str(quartile3))\n",
    "axes[1].axvspan(mean - std_dev, mean + std_dev, color=\"grey\", alpha=0.4,\n",
    "                label=\"mean +- std dev \\n\" f\"standard deviation = {std_dev:.2f}\")\n",
    "axes[1].legend(fontsize=\"small\")\n",
    "\n",
    "\n",
    "\"\"\"BoxPlot\"\"\"\n",
    "sns.boxplot(data=data, orient=\"h\", fill=True, width=1, ax=axes[2])\n",
    "axes[2].set_title(\"Boxplot\")\n",
    "\n",
    "# Displaying the mean, 1st & 3rd quartiles and std dev\n",
    "axes[2].plot(quartile1, 0, \"bo\", label=\"Q1 = \" + str(quartile1))\n",
    "axes[2].plot(mean, 0, \"ro\", label=\"Mean = \" + str(round(mean, 2)))\n",
    "axes[2].plot(quartile3, 0, \"go\", label=\"Q3 = \" + str(quartile3))\n",
    "axes[2].axvspan(mean - std_dev, mean + std_dev, color=\"grey\", alpha=0.4,\n",
    "                ymin=0.045, ymax=0.955,\n",
    "                label=\"mean +- std dev \\n\" f\"standard deviation = {std_dev:.2f}\")\n",
    "plt.legend(fontsize=\"small\")\n",
    "\n",
    "plt.show()"
   ]
  },
  {
   "cell_type": "markdown",
   "id": "1c676d1c",
   "metadata": {},
   "source": [
    "<div class=\"alert-success\">\n",
    "    \n",
    "Y a-t-il des données aberrantes ? \n",
    "</div>"
   ]
  },
  {
   "cell_type": "markdown",
   "id": "bca14ee6-2ecb-489e-86cd-21882e535e4b",
   "metadata": {},
   "source": [
    "<h>Il y a une dizaine d'outliers au dessus de la limite supérieure du boxplot (calculée par Q3 + 1.5 (Q3-Q1)), mais dans notre cas, ces points sont des mesures de tremblements de terre et ne sont pas forcément des données aberrantes, mais possiblement dû au fait qu'il y a + de earthquakes avec une grande magnitude (heavy-tailed) que ce attendu en utilisant une distribution normale\n",
    "</h>"
   ]
  },
  {
   "cell_type": "markdown",
   "id": "a438318b-9be5-48b8-82c4-688bb6e255d5",
   "metadata": {},
   "source": [
    "## Estimation de densité"
   ]
  },
  {
   "cell_type": "markdown",
   "id": "ba4abd88",
   "metadata": {},
   "source": [
    "L'histogramme que vous avez représenté peut vous aider à postuler un modèle pour la distribution de la variable étudiée. Cependant, il est nécessaire de fixer le nombre de bins, et le graphique obtenu peut être difficile à interpréter, la visualisation dépendant du choix du nombre de bins.\n",
    "\n",
    "La construction d'un tel histogramme peut être vue comme un empilement de blocs, chaque bloc correspondant à un point (*i.e.* une observation). Pour chaque observation se trouvant dans la plage de valeurs d'une bin, un bloc est ajouté pour cette bin. Une autre manière de construire une estimation de la densité consiste à ajouter un bloc centré en la valeur de l'observation à laquelle il correspond. Pour chaque observation, on place un bloc, non pas dans une bin arbitraire, mais à la position de l'observation sur l'axe des observations. Ensuite, on somme la hauteur des blocs en chaque point de cet axe. \n",
    "\n",
    "Derrière cette intuition se cache la méthode de l'estimation de la densité basée sur un noyau (*Kernel Density Estimation*, KDE, en anglais). Le noyau représente le bloc que l'on place pour chaque observation. Il peut prendre beaucoup de formes, et ne se limite donc pas à un \"bloc\" rectangulaire.\n",
    "\n",
    "Cette méthode est par exemple implémentée dans la librairie [scikit-learn](https://scikit-learn.org/1.5/modules/density.html).\n",
    "\n",
    "<div class=\"alert-success\">\n",
    "\n",
    "À l'aide de cette librairie, générez une figure superposant l'histogramme généré précédemment, et les densités estimées avec un noyau gaussien, pour les valeurs du paramètre \"bandwidth\" ($bw$) suivantes: $bw \\in \\{0.1, 0.3, 0.8, 1.2\\}$. Faites également apparaître les données d'échantillon comme proposé dans l'exemple de l'url ci-dessus. Vous pouvez laisser les autres paramètres par défaut de la méthode de la librairie.\n",
    "\n",
    "</div>"
   ]
  },
  {
   "cell_type": "code",
   "execution_count": 1044,
   "id": "15597301",
   "metadata": {},
   "outputs": [
    {
     "data": {
      "image/png": "[encoded data removed]",
      "text/plain": [
       "<Figure size 640x480 with 1 Axes>"
      ]
     },
     "metadata": {},
     "output_type": "display_data"
    }
   ],
   "source": [
    "\n",
    "\"\"\"histogramme\"\"\"\n",
    "sns.histplot(data, bins=15, stat=\"density\")\n",
    "\n",
    "\"\"\"KDE\"\"\"\n",
    "# besoin de passer d'un vecteur pandas à un vecteur numpy via .values,\n",
    "# et de changer la dimension de l'array donné à fit, il faut un array 2D de taille (n_samples, n_features),\n",
    "# ici (n_samples, 1) car le data est 1D (magnitudes, ce n'est pas une coord 2D) => 1! feature\n",
    "# l'array ressemble à [[mag1], [mag2], [mag3], ...]\n",
    "x_plot = np.linspace(min(data), max(data), 100).reshape(-1, 1)\n",
    "\n",
    "kde_bw01 = KernelDensity(kernel=\"gaussian\", bandwidth=0.1).fit(\n",
    "    data.values.reshape(-1, 1))\n",
    "density_bw01 = np.exp(kde_bw01.score_samples(x_plot))\n",
    "plt.plot(x_plot, density_bw01, color='k', label=\"bw=0.1\")\n",
    "\n",
    "kde_bw03 = KernelDensity(kernel=\"gaussian\", bandwidth=0.3).fit(\n",
    "    data.values.reshape(-1, 1))\n",
    "density_bw03 = np.exp(kde_bw03.score_samples(x_plot))\n",
    "plt.plot(x_plot, density_bw03, color='b', label=\"bw=0.3\")\n",
    "\n",
    "kde_bw08 = KernelDensity(kernel=\"gaussian\", bandwidth=0.8).fit(\n",
    "    data.values.reshape(-1, 1))\n",
    "density_bw08 = np.exp(kde_bw08.score_samples(x_plot))\n",
    "plt.plot(x_plot, density_bw08, color='g', label=\"bw=0.8\")\n",
    "\n",
    "kde_bw12 = KernelDensity(kernel=\"gaussian\", bandwidth=1.2).fit(\n",
    "    data.values.reshape(-1, 1))\n",
    "density_bw12 = np.exp(kde_bw12.score_samples(x_plot))\n",
    "plt.plot(x_plot, density_bw12, color='r', label=\"bw=1.2\")\n",
    "\n",
    "plt.legend()\n",
    "plt.show()"
   ]
  },
  {
   "cell_type": "markdown",
   "id": "e45e9159-8fab-40a6-8abd-03ef9616ae5d",
   "metadata": {},
   "source": [
    "<div class=\"alert-success\">\n",
    "\n",
    "Comparez la représentation obtenue avec une KDE et un histogramme. \n",
    "\n",
    "Que représente le paramètre \"bandwidth\" de la fonction utilisée ? Comment change-t-il la représentation générée ci-dessus ?\n",
    "\n",
    "</div>"
   ]
  },
  {
   "cell_type": "markdown",
   "id": "b350b986-a6f1-40dd-b9f1-5bb48ab7d4bc",
   "metadata": {},
   "source": [
    "Pour une magnitude $x$ donnée, la $bandwidth$ représente la largeur de l'intervalle $S$ autour de $x$ dans lequel on comptabilisera toutes les données ayant une magnitude comprise dans $S$ afin d'estimer la densité de probabilité en x. \n",
    "Plus formellement, on a \n",
    "\\begin{equation}\n",
    "\\text{density}(x) = \\frac{1}{n} \\sum_{j=1}^{n} \\mathbb{I}\\left( x - \\frac{\\text{bw}}{2} \\leq x_j \\leq x + \\frac{\\text{bw}}{2} \\right)\n",
    "\\end{equation}\n",
    "pour un kernel rectangulaire.\n",
    "\n",
    "Autrement dit, une augmentation de la $bandwidth$ impliquera un lissage de l'estimation de la densité, pouvant éviter de fortes variations locales, au prix d'une possible perte de précision localement.\n"
   ]
  },
  {
   "cell_type": "markdown",
   "id": "7a430bde-c866-434f-b961-1791af4cc3ba",
   "metadata": {},
   "source": [
    "<div class=\"alert-success\">\n",
    "\n",
    "Afin d'étudier plus en détails les propriétés du paramètre \"bandwidth\", générez une nouvelle figure en suivant la méthode suivante.\n",
    "\n",
    "Pour chaque bandwidth $bw \\in \\{0.1, 0.3, 0.5, 1.2\\}$ :\n",
    "\n",
    "- générez 25 sous-échantillons de taille $n=25$ de l'échantillon de départ;\n",
    "- estimez, à l'aide d'une KDE et d'un kernel gaussien, pour la $bw$ considérée, la densité pour chaque sous-échantillon;\n",
    "- tracez la moyenne des densités estimées, et mettez en évidence la zone comprise entre cette moyenne et $\\pm$ la variance de ces densités (au moyen par exemple de la fonction `fill_between` de la librairie `matplotlib`).\n",
    "\n",
    "</div>"
   ]
  },
  {
   "cell_type": "code",
   "execution_count": 1045,
   "id": "0d8759ec-6f41-43d7-b612-16ca260d6a45",
   "metadata": {
    "editable": true,
    "slideshow": {
     "slide_type": ""
    },
    "tags": []
   },
   "outputs": [
    {
     "data": {
      "text/plain": [
       "'VOTRE CODE ICI'"
      ]
     },
     "execution_count": 1045,
     "metadata": {},
     "output_type": "execute_result"
    }
   ],
   "source": [
    "\"\"\"VOTRE CODE ICI\"\"\""
   ]
  },
  {
   "cell_type": "markdown",
   "id": "6506ac10-d75b-4998-8f9e-0824ccb74b33",
   "metadata": {},
   "source": [
    "<div class=\"alert-success\">\n",
    "\n",
    "    \n",
    "Comparez les résultats obtenus pour les différentes bandwidth. Quels critères sont modifiés par le choix de ce paramètre, qui pourraient entrer en compte dans le choix de la valeur à lui donner ? Le choix de cette valeur est-il évident ou résulte-t-il d'un compromis ? Justifiez. \n",
    "\n",
    "</div>"
   ]
  },
  {
   "cell_type": "markdown",
   "id": "3375814f-4905-4343-afdc-1f6fb2ae4bcd",
   "metadata": {},
   "source": [
    "> VOTRE TEXTE ICI"
   ]
  },
  {
   "cell_type": "markdown",
   "id": "cce177b4-4202-415c-9002-a3a2d701fefb",
   "metadata": {},
   "source": [
    "---"
   ]
  },
  {
   "cell_type": "markdown",
   "id": "1bc678ff",
   "metadata": {},
   "source": [
    "# Modèle et estimation des paramètres\n"
   ]
  },
  {
   "cell_type": "markdown",
   "id": "f6a24f7b",
   "metadata": {},
   "source": [
    "Dans cette deuxième partie du devoir, vous allez devoir construire différents estimateurs ponctuels pour le paramètre d'un modèle statistique de vos données. Pour cela, vous utiliserez comme modèle statistique la distribution Exponentielle  de paramètre $\\lambda$, décalée de 6.5 unités vers la droite, dont la PDF est donnée par\n",
    "$$f_Y(y ; \\lambda) = \\begin{cases} \\lambda e^{-\\lambda (y - 6.5)} , & \\text{si $y \\geq 0$} ,\\\\ 0, & \\text{si $y < 0$}, \\end{cases}$$\n",
    "avec $\\lambda>0$.\n",
    "\n",
    "Intéressons nous à plusieurs méthodes pour estimer la valeur du paramètre de la distribution.\n",
    "\n",
    "**Remarque importante**: \n",
    "\n",
    "Lorsque vous calculez des statistiques en utilisant une fonction implémentée dans une librairie Python (ou autre), vérifiez dans la documentation que cette fonction calcule bien la statistique souhaitée, pour la distribution considérée, telles que définies dans le cours théorique ou dans l'énoncé."
   ]
  },
  {
   "cell_type": "markdown",
   "id": "93a6c1d8",
   "metadata": {},
   "source": [
    "## Estimation par la méthode des moments"
   ]
  },
  {
   "cell_type": "markdown",
   "id": "5e5d9f33",
   "metadata": {},
   "source": [
    "Une première manière pour estimer les paramètres de la distribution Exponentielle est d'utiliser la méthode des moments. Pour rappel, cette méthode consiste à faire coincider le moment théorique et le moment d'échantillon d'ordre $k$ :\n",
    "$$E(Y^k) = \\dfrac{1}{n} \\sum_{j=1}^n Y_j^k .$$"
   ]
  },
  {
   "cell_type": "markdown",
   "id": "3450c8d4",
   "metadata": {},
   "source": [
    "### Calcul de l'estimateur"
   ]
  },
  {
   "cell_type": "markdown",
   "id": "ef4a7f65",
   "metadata": {},
   "source": [
    "<div class=\"alert-success\">\n",
    "\n",
    "Calculez la valeur de l'estimateur $\\hat{\\lambda}_{\\mathrm{MoM}}$ pour votre échantillon.\n",
    "\n",
    "</div>"
   ]
  },
  {
   "cell_type": "code",
   "execution_count": null,
   "id": "b04a1ad3",
   "metadata": {},
   "outputs": [
    {
     "name": "stdout",
     "output_type": "stream",
     "text": [
      "2.2719527433829376\n",
      "0.1440199580176409\n"
     ]
    }
   ],
   "source": [
    "\"\"\"VOTRE CODE ICI\"\"\"\n",
    "\n",
    "# E(Y) = 1/lambda et\n",
    "# Var(Y) = 1/lambda^2\n",
    "\n",
    "M1 = 1/dataset_size * np.sum(data)\n",
    "lambda_MoM_mean = 1/(M1-6.5)  # E(Y) = 6.5 + 1/lambda car expo  décalée\n",
    "\n",
    "M2 = 1/(dataset_size-1) * np.sum((data)**2 - M1**2)\n",
    "lambda_MoM_var = 1/np.sqrt(M2)  # le décalage n'affecte pas la variance\n",
    "\n",
    "\n",
    "# lequel utiliser ?\n",
    "# lambda via var est bien + consistant, je ne sais pas pourquoi via mean on est si mauvais\n",
    "print(lambda_MoM_mean)\n",
    "print(lambda_MoM_var)"
   ]
  },
  {
   "cell_type": "markdown",
   "id": "4a163059",
   "metadata": {},
   "source": [
    "## Estimation par la méthode du maximum de vraisemblance\n"
   ]
  },
  {
   "cell_type": "markdown",
   "id": "9fee0cdf",
   "metadata": {},
   "source": [
    "Une seconde méthode d'estimation des paramètres est la méthode du maximum de vraisemblance. Pour rappel, cette méthode consiste à trouver la valeur des paramètres maximisant la fonction de vraisemblance (ou, de manière équivalente, maximisant la log-vraisemblance) :\n",
    "$$ \\hat{\\lambda}_\\mathrm{MLE} = \\underset{\\lambda}{\\mathrm{arg\\,max}} \\; \\log L(\\lambda; \\textbf{y}),$$\n",
    "où $\\textbf{y}$ représente les données observées.\n",
    "\n",
    "*Note :* la notation $\\log$ dénote dans la convention du cours le logarithme naturel."
   ]
  },
  {
   "cell_type": "markdown",
   "id": "c143dd56",
   "metadata": {},
   "source": [
    "### Calcul des estimateurs\n",
    "\n",
    "<div class=\"alert-success\">\n",
    "\n",
    "Calculez la valeur de l'estimateur $\\hat{\\lambda}_{\\mathrm{MLE}}$ pour votre échantillon.\n",
    "\n",
    "</div>"
   ]
  },
  {
   "cell_type": "code",
   "execution_count": 1047,
   "id": "92c23731",
   "metadata": {},
   "outputs": [
    {
     "name": "stdout",
     "output_type": "stream",
     "text": [
      "2.2719527433829376\n"
     ]
    }
   ],
   "source": [
    "\"\"\"VOTRE CODE ICI\"\"\"\n",
    "\n",
    "# sur papier : calcul de Likelihood en fonction de lambda et des y_j\n",
    "# ensuite log-likelihood\n",
    "# ensuite derivee de log-likelihood en fonction de lambda pour trouver le maximum\n",
    "# le lambda qui correspond au maximum est le lambda MLE\n",
    "# ce qui donne\n",
    "\n",
    "lambda_MLE = (np.sum(data - 6.5)/dataset_size)**-1\n",
    "print(lambda_MLE)"
   ]
  },
  {
   "cell_type": "markdown",
   "id": "6f15a5c1",
   "metadata": {},
   "source": [
    "## Comparaison"
   ]
  },
  {
   "cell_type": "markdown",
   "id": "8f6463e2",
   "metadata": {},
   "source": [
    "<div class=\"alert-success\">\n",
    "\n",
    "Maintenant que les valeurs des estimateurs ont été déterminées, superposez les modèles estimés $f_Y(y ; \\hat{\\lambda})$ par la méthode des moments et du maximum de vraisemblance à l'histogramme de vos données d'échantillon $\\mathbf{y} = (y_1, \\ldots, y_n)$.\n",
    "\n",
    "</div>"
   ]
  },
  {
   "cell_type": "code",
   "execution_count": 1048,
   "id": "02355561",
   "metadata": {},
   "outputs": [
    {
     "data": {
      "image/png": "[encoded data removed]",
      "text/plain": [
       "<Figure size 640x480 with 1 Axes>"
      ]
     },
     "metadata": {},
     "output_type": "display_data"
    }
   ],
   "source": [
    "\"\"\"VOTRE CODE ICI\"\"\"\n",
    "\n",
    "\n",
    "\"\"\"histogramme\"\"\"\n",
    "sns.histplot(data, bins=15, stat=\"density\")\n",
    "\n",
    "\n",
    "def f(y_j, l):\n",
    "    return l * np.exp(-l * (y_j - 6.5))\n",
    "\n",
    "\n",
    "x_plot = np.linspace(min(data), max(data), 100)\n",
    "pdf_mom = f(x_plot, lambda_MoM_mean)\n",
    "pdf_mle = f(x_plot, lambda_MLE)\n",
    "plt.plot(x_plot, pdf_mom, color='r', label=\"MoM\")\n",
    "plt.plot(x_plot, pdf_mle, color='b', label=\"MLE\")\n",
    "plt.legend()\n",
    "plt.show()"
   ]
  },
  {
   "cell_type": "markdown",
   "id": "687f239b",
   "metadata": {},
   "source": [
    "<div class=\"alert-success\">\n",
    "    \n",
    "Que pouvez vous dire des modèles estimés par rapport à vos données ? Ces modèles semblent-ils coller aux données ? \n",
    "    \n",
    "Les deux méthodes donnent-elles des résultats similaires ? Justifiez. \n",
    "</div>"
   ]
  },
  {
   "cell_type": "markdown",
   "id": "61165e28",
   "metadata": {
    "editable": true,
    "slideshow": {
     "slide_type": ""
    },
    "tags": []
   },
   "source": [
    "> VOTRE TEXTE ICI"
   ]
  },
  {
   "cell_type": "markdown",
   "id": "b6b8a5b7-e747-4482-b4a3-d4f72c787290",
   "metadata": {
    "editable": true,
    "slideshow": {
     "slide_type": ""
    },
    "tags": []
   },
   "source": [
    "---"
   ]
  },
  {
   "cell_type": "markdown",
   "id": "5a1dd5ec",
   "metadata": {},
   "source": [
    "# Convergence des estimateurs\n",
    "\n",
    "Cette dernière partie du devoir a pour but de vous faire explorer la convergence des estimateurs, c'est-à-dire leur évolution pour des tailles d'échantillon de plus en plus grandes. En particulier, il vous est demandé d'étudier les propriétés asymptotiques du MLE. \n",
    "</br>\n",
    "\n",
    "Afin d'étudier le biais de vos estimateurs, il est nécessaire d'utiliser une valeur \"théorique\" des paramètres de votre distribution. Nous allons donc, dans cette dernière partie du devoir, considérer une distribution théorique pour la variable étudiée, et générer des données simulées de cette distribution. \n",
    "\n",
    "On fait ici l'hypothèse que la variable étudiée suit une distribution Exponentielle de paramètres $\\lambda=2.272$ (même si ce n'est (peut-être) pas le cas dans la réalité)."
   ]
  },
  {
   "cell_type": "markdown",
   "id": "ccf5ad59",
   "metadata": {},
   "source": [
    "## Biais et variance de l'estimateur"
   ]
  },
  {
   "cell_type": "markdown",
   "id": "1bbc9ff7",
   "metadata": {},
   "source": [
    "Afin d'étudier le concept de biais et d'estimer le biais de l'estimateur MLE, vous allez premièrement comparer les effets de certains paramètres sur la précision de cet estimateur.\n",
    "\n",
    "<div class=\"alert-success\">\n",
    "\n",
    "Pour ce faire, vous allez générer les courbes suivantes, en tirant $m=500$ échantillons différents :\n",
    "\n",
    "- dans une première figure, l'évolution du **biais** (en valeur absolue) de $\\hat{\\lambda}_{\\mathrm{MLE}}$ en fonction de la taille d'échantillon $n$, pour $n \\in \\{2, 3, ..., 100\\}$\n",
    "- dans une seconde figure, l'évolution de la **variance** de $\\hat{\\lambda}_{\\mathrm{MLE}}$ en fonction de la taille d'échantillon $n$, pour $n \\in \\{2, 3, ..., 100\\}$.\n",
    "\n",
    "Au total, deux figures sont attendues, chacune contenant une courbe. Pensez à ajouter une légende ou un titre sur vos deux figures, afin d'éviter une confusion entre les courbes (en plus des labels d'axes, évidemment).\n",
    "\n",
    "</div>"
   ]
  },
  {
   "cell_type": "code",
   "execution_count": 1049,
   "id": "9054cf8f",
   "metadata": {},
   "outputs": [
    {
     "data": {
      "text/plain": [
       "'VOTRE CODE ICI'"
      ]
     },
     "execution_count": 1049,
     "metadata": {},
     "output_type": "execute_result"
    }
   ],
   "source": [
    "\"\"\"VOTRE CODE ICI\"\"\""
   ]
  },
  {
   "cell_type": "markdown",
   "id": "9960319e",
   "metadata": {},
   "source": [
    "<div class=\"alert-success\">\n",
    "\n",
    "Qu'observez-vous par rapport à l'évolution\n",
    "\n",
    "- du biais, et\n",
    "- de la variance    \n",
    "\n",
    "de l'estimateur, lorsque la taille $n$ des échantillons augmente. Pouvez-vous en donner une explication théorique ? En particulier, quelle propriété de l'estimateur du maximum de vraisemblance est ici observée ?\n",
    "\n",
    "</div>"
   ]
  },
  {
   "cell_type": "markdown",
   "id": "01fb147e",
   "metadata": {},
   "source": [
    "> VOTRE TEXTE ICI"
   ]
  },
  {
   "cell_type": "markdown",
   "id": "599acc46",
   "metadata": {},
   "source": [
    "<div class=\"alert-success\">\n",
    "\n",
    "Quelle modification pouvez-vous apporter à l'estimateur $\\hat{\\lambda}_{\\mathrm{MLE}}$ afin d'obtenir un estimateur non-biaisé de $\\lambda$ ?\n",
    "\n",
    "</div>"
   ]
  },
  {
   "cell_type": "markdown",
   "id": "3fb8b6ea",
   "metadata": {},
   "source": [
    "> VOTRE TEXTE ICI"
   ]
  },
  {
   "cell_type": "markdown",
   "id": "9569b30d",
   "metadata": {},
   "source": [
    "<div class=\"alert-success\">\n",
    "    \n",
    "Cet estimateur est-il meilleur que $\\hat{\\lambda}_{\\mathrm{MLE}}$ ? Pour argumenter votre réponse, tracez tout d'abord l'évolution du **biais** et de la **variance** de ce nouvel estimateur en suivant la même marche à suivre qu'à la sous-question précédente. Superposez les courbes obtenues pour l'estimateur biaisé (générées pour les mêmes échantillons que l'estimateur non-biaisé) sur ces nouvelles figures. Veillez à choisir les dimensions de vos axes pour que la comparaison avec les graphes de la sous-question précédente soit pertinente.\n",
    "\n",
    "</div>"
   ]
  },
  {
   "cell_type": "code",
   "execution_count": 1050,
   "id": "ca99d03d",
   "metadata": {},
   "outputs": [
    {
     "data": {
      "text/plain": [
       "'VOTRE CODE ICI'"
      ]
     },
     "execution_count": 1050,
     "metadata": {},
     "output_type": "execute_result"
    }
   ],
   "source": [
    "\"\"\"VOTRE CODE ICI\"\"\""
   ]
  },
  {
   "cell_type": "markdown",
   "id": "4d04082c",
   "metadata": {},
   "source": [
    "<div class=\"alert-success\">\n",
    "Au vu des graphes obtenus, quel choix d'estimateur vous semble le plus pertinent? Justifiez.\n",
    "</div>"
   ]
  },
  {
   "cell_type": "markdown",
   "id": "b2d5a74b-3e61-4ebb-b32e-f138fd3a737a",
   "metadata": {
    "editable": true,
    "slideshow": {
     "slide_type": ""
    },
    "tags": []
   },
   "source": [
    "> VOTRE TEXTE ICI"
   ]
  },
  {
   "cell_type": "markdown",
   "id": "7ad6021e-c82b-4c97-9341-d794010a8d82",
   "metadata": {
    "editable": true,
    "slideshow": {
     "slide_type": ""
    },
    "tags": []
   },
   "source": [
    "<div class=\"alert-success\">\n",
    "\n",
    "Vous avez désormais étudié le biais de $\\hat{\\lambda}_{\\mathrm{MLE}}$ pour estimer $\\lambda$.\n",
    "\n",
    "    \n",
    "La moyenne d'une distribution exponentielle étant égale à $1/\\lambda$, une manière intuitive d'estimer cette moyenne est de calculer $1/\\hat{\\lambda}_{\\mathrm{MLE}}$.\n",
    "\n",
    "Tracez à présent l'évolution du **biais** et de la **variance** de ce nouvel estimateur en suivant la même marche à suivre qu'aux sous-question précédentes. \n",
    "</div>"
   ]
  },
  {
   "cell_type": "code",
   "execution_count": 1051,
   "id": "c537fdb6-32f5-4b1e-83d4-f7f0790e1ae5",
   "metadata": {
    "scrolled": true
   },
   "outputs": [
    {
     "data": {
      "text/plain": [
       "'VOTRE CODE ICI'"
      ]
     },
     "execution_count": 1051,
     "metadata": {},
     "output_type": "execute_result"
    }
   ],
   "source": [
    "\"\"\"VOTRE CODE ICI\"\"\""
   ]
  },
  {
   "cell_type": "markdown",
   "id": "ef8bad99-9720-4df1-99ba-f6e0a353dbbd",
   "metadata": {},
   "source": [
    "<div class=\"alert-success\">\n",
    "\n",
    "Qu'observez-vous pour l'évolution du biais et de la variance pour cet estimateur de la moyenne ? Est-ce surprenant au vu de l'évolution du biais et de la variance de l'estimateur $\\hat{\\lambda}_{\\mathrm{MLE}}$ pour $\\lambda$ ?\n",
    "\n",
    "</div>"
   ]
  },
  {
   "cell_type": "markdown",
   "id": "487485c2-419a-4246-aa92-6e05927d72f5",
   "metadata": {},
   "source": [
    "> VOTRE TEXTE ICI"
   ]
  },
  {
   "cell_type": "markdown",
   "id": "a9643701",
   "metadata": {},
   "source": [
    "## Représentation graphique "
   ]
  },
  {
   "cell_type": "markdown",
   "id": "2ec03425",
   "metadata": {},
   "source": [
    "<div class=\"alert-success\">\n",
    "    \n",
    "Une autre manière de visualiser comment les estimateurs évoluent en fonction de la taille d'échantillon est de générer l'histogramme de ces estimateurs, autrement dit, de représenter leur distribution d'échantillon. On peut, dans ce cas, observer de manière plus graphique l'évolution du biais et de la variance des échantillons. Pour ce faire, pour chacun des trois estimateurs, il vous est demandé de superposer les histogrammes des estimateurs obtenus pour différentes tailles d'échantillons $n \\in \\{5, 25, 100, 200\\}$. Pour chaque histogramme, représentez la moyenne afin de la comparer avec la valeur à estimer (à représenter également). \n",
    "\n",
    "Au total, ce sont trois graphiques qui sont attendus pour plus de lisibilité.\n",
    "\n",
    "</div>"
   ]
  },
  {
   "cell_type": "code",
   "execution_count": 1052,
   "id": "947c8859",
   "metadata": {
    "editable": true,
    "slideshow": {
     "slide_type": ""
    },
    "tags": []
   },
   "outputs": [
    {
     "data": {
      "text/plain": [
       "'VOTRE CODE ICI'"
      ]
     },
     "execution_count": 1052,
     "metadata": {},
     "output_type": "execute_result"
    }
   ],
   "source": [
    "\"\"\"VOTRE CODE ICI\"\"\""
   ]
  },
  {
   "cell_type": "markdown",
   "id": "33dc40b1",
   "metadata": {
    "editable": true,
    "slideshow": {
     "slide_type": ""
    },
    "tags": []
   },
   "source": [
    "# Que faut-il en retenir ?\n",
    "\n",
    "Rassurez-vous, cette section ne contient aucun travail que vous devrez nous rendre.\n",
    "\n",
    "Le but de celle-ci est de constituer une liste de questions que vous devriez être en mesure d'aborder à la fin de ce devoir. Ces questions ont pour but de vous aider à identifier si vous avez réellement compris ce que vous avez fait pendant ce devoir et pourquoi vous l'avez fait. Rien à rendre donc, simplement quelque chose que vous pourrez relire en guise d'introduction à votre étude future des statistiques (par exemple, avant l'examen)."
   ]
  },
  {
   "cell_type": "markdown",
   "id": "88f165fc",
   "metadata": {},
   "source": [
    "* Comment peut-on représenter la distribution des données dans un échantillon ?\n",
    "* Quelle est la différence entre la construction d'un histogramme et d'une KDE ?\n",
    "* Qu'est ce qu'une donnée aberrante ?\n",
    "* Pourquoi utilise-t-on des estimateurs ? Quelles sont les méthodes pour ce faire ?\n",
    "* Pourquoi est-il possible d'étudier la variance et l'esperance d'un estimateur ?\n",
    "* Qu'est ce que la convergence d'un estimateur et pourquoi est-elle souhaitable ?\n",
    "* Quelles sont les propriétés asymptotiques du MLE ?\n",
    "* Existe-t-il une seule manière d'estimer (de manière ponctuelle) une caractéristique de la population ? Quels sont les critères qui permettent de comparer des estimateurs ?\n"
   ]
  },
  {
   "cell_type": "markdown",
   "id": "2b5042c4",
   "metadata": {
    "editable": true,
    "slideshow": {
     "slide_type": ""
    },
    "tags": []
   },
   "source": [
    "Bon travail !"
   ]
  }
 ],
 "metadata": {
  "authors": [
   {
    "name": "Le staff de MATH0487-2"
   }
  ],
  "date": "Novembre 2024",
  "kernelspec": {
   "display_name": "Python (jupyterV1)",
   "language": "python",
   "name": "jupyterpythonv1"
  },
  "language_info": {
   "codemirror_mode": {
    "name": "ipython",
    "version": 3
   },
   "file_extension": ".py",
   "mimetype": "text/x-python",
   "name": "python",
   "nbconvert_exporter": "python",
   "pygments_lexer": "ipython3",
   "version": "3.12.3"
  },
  "title": "Devoir 1 : Statistiques descriptives, modèles et estimation"
 },
 "nbformat": 4,
 "nbformat_minor": 5
}
